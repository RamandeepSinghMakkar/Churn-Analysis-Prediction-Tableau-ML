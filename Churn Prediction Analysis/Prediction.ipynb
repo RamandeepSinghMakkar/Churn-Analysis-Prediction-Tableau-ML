{
 "cells": [
  {
   "cell_type": "code",
   "execution_count": 25,
   "id": "1464e30b-b7e5-471b-8f3e-25b7ff6793aa",
   "metadata": {},
   "outputs": [
    {
     "name": "stdout",
     "output_type": "stream",
     "text": [
      "Requirement already satisfied: lightgbm in /Library/Frameworks/Python.framework/Versions/3.13/lib/python3.13/site-packages (4.5.0)\n",
      "Requirement already satisfied: numpy>=1.17.0 in /Library/Frameworks/Python.framework/Versions/3.13/lib/python3.13/site-packages (from lightgbm) (2.2.2)\n",
      "Requirement already satisfied: scipy in /Library/Frameworks/Python.framework/Versions/3.13/lib/python3.13/site-packages (from lightgbm) (1.15.1)\n"
     ]
    }
   ],
   "source": [
    "import pandas as pd\n",
    "import numpy as np\n",
    "import warnings\n",
    "import matplotlib.pyplot as plt\n",
    "import seaborn as sns\n",
    "from sklearn.model_selection import train_test_split\n",
    "from sklearn.preprocessing import StandardScaler\n",
    "from sklearn.neighbors import KNeighborsClassifier\n",
    "from sklearn.ensemble import RandomForestClassifier\n",
    "from sklearn.linear_model import LogisticRegression\n",
    "from sklearn.metrics import accuracy_score, f1_score"
   ]
  },
  {
   "cell_type": "raw",
   "id": "94f6beb2-f6da-4cb8-ad0a-55fa3498dcb2",
   "metadata": {},
   "source": [
    "Load and process the Data"
   ]
  },
  {
   "cell_type": "code",
   "execution_count": 5,
   "id": "56fe123e-7f44-48b6-981c-618d92e7d768",
   "metadata": {},
   "outputs": [],
   "source": [
    "data = pd.read_csv('Databel - Data.csv')\n",
    "\n",
    "data['State'] = data['State'].astype('category')\n",
    "data['Churn Category'] = data['Churn Category'].astype('category')\n",
    "data['Churn Reason'] = data['Churn Reason'].astype('category')\n",
    "\n",
    "categorical_cols = ['Intl Plan', 'Intl Active', 'Unlimited Data Plan', 'Gender', 'Under 30', 'Senior',\n",
    "                    'Group', 'Device Protection & Online Backup', 'Contract Type', 'Payment Method', 'Churn']\n",
    "for col in categorical_cols:\n",
    "    if col in data.columns:\n",
    "        data[col] = data[col].astype('category')\n",
    "\n",
    "churn_info = data[['Churn Category', 'Churn Reason']]\n",
    "data = data.drop(columns=['Churn Category', 'Churn Reason'])\n",
    "\n",
    "X = data.drop(['Churn', 'Customer ID', 'Phone Number'], axis=1)\n",
    "y = data['Churn'].map({'No': 0, 'Yes': 1})"
   ]
  },
  {
   "cell_type": "raw",
   "id": "c9d3382a-72a6-434d-8a79-ac02a27ccab4",
   "metadata": {},
   "source": [
    "Train the Model"
   ]
  },
  {
   "cell_type": "code",
   "execution_count": 26,
   "id": "6ddc72a0-b516-4b9e-9fa0-4dafd11ba820",
   "metadata": {},
   "outputs": [
    {
     "name": "stdout",
     "output_type": "stream",
     "text": [
      "                     Accuracy  F1-Score\n",
      "KNN                  0.817638  0.811170\n",
      "Logistic Regression  0.891878  0.890117\n",
      "Random Forest        0.883906  0.875564\n"
     ]
    }
   ],
   "source": [
    "warnings.filterwarnings(\"ignore\")\n",
    "\n",
    "data = pd.read_csv('Databel - Data.csv')\n",
    "\n",
    "data['State'] = data['State'].astype('category')\n",
    "data['Churn Category'] = data['Churn Category'].astype('category')\n",
    "data['Churn Reason'] = data['Churn Reason'].astype('category')\n",
    "\n",
    "categorical_cols = ['Intl Plan', 'Intl Active', 'Unlimited Data Plan', 'Gender', 'Under 30', 'Senior',\n",
    "                    'Group', 'Device Protection & Online Backup', 'Contract Type', 'Payment Method', 'Churn']\n",
    "\n",
    "for col in categorical_cols:\n",
    "    if col in data.columns:\n",
    "        data[col] = data[col].astype('category')\n",
    "\n",
    "churn_info = data[['Churn Category', 'Churn Reason']]\n",
    "data = data.drop(columns=['Churn Category', 'Churn Reason'])\n",
    "\n",
    "X = data.drop(['Churn', 'Customer ID', 'Phone Number'], axis=1)\n",
    "y = data['Churn'].map({'No': 0, 'Yes': 1})\n",
    "\n",
    "X = pd.get_dummies(X, drop_first=True)\n",
    "\n",
    "X_train, X_test, y_train, y_test = train_test_split(X, y, test_size=0.3, random_state=42, stratify=y)\n",
    "\n",
    "scaler = StandardScaler()\n",
    "X_train_scaled = scaler.fit_transform(X_train)\n",
    "X_test_scaled = scaler.transform(X_test)\n",
    "\n",
    "models = {\n",
    "    \"KNN\": KNeighborsClassifier(n_neighbors=5),\n",
    "    \"Logistic Regression\": LogisticRegression(max_iter=500),\n",
    "    \"Random Forest\": RandomForestClassifier(n_estimators=200, max_depth=5, random_state=42)\n",
    "}\n",
    "\n",
    "results = {}\n",
    "\n",
    "for name, model in models.items():\n",
    "    # Use scaled features only for KNN & Logistic Regression\n",
    "    if name in [\"KNN\", \"Logistic Regression\"]:\n",
    "        model.fit(X_train_scaled, y_train)\n",
    "        y_pred = model.predict(X_test_scaled)\n",
    "    else:\n",
    "        model.fit(X_train, y_train)\n",
    "        y_pred = model.predict(X_test)\n",
    "\n",
    "    accuracy = accuracy_score(y_test, y_pred)\n",
    "    f1 = f1_score(y_test, y_pred, average='weighted') \n",
    "    results[name] = {\"Accuracy\": accuracy, \"F1-Score\": f1}\n",
    "\n",
    "results_df = pd.DataFrame(results).T\n",
    "print(results_df)"
   ]
  },
  {
   "cell_type": "code",
   "execution_count": null,
   "id": "e1da346f-53ec-467c-bac1-e146c5e48bd7",
   "metadata": {},
   "outputs": [],
   "source": []
  },
  {
   "cell_type": "code",
   "execution_count": 27,
   "id": "16f9ca70-0bf9-40c1-ae45-6346ac16f650",
   "metadata": {},
   "outputs": [
    {
     "name": "stdout",
     "output_type": "stream",
     "text": [
      "Predictions saved successfully!\n"
     ]
    }
   ],
   "source": [
    "best_model = models[\"Logistic Regression\"] \n",
    "\n",
    "y_pred_test = best_model.predict(X_test_scaled)\n",
    "y_pred_proba_test = best_model.predict_proba(X_test_scaled)\n",
    "\n",
    "test_results = X_test.copy()\n",
    "test_results['Actual_Churn'] = y_test.values\n",
    "test_results['Predicted_Churn'] = y_pred_test\n",
    "test_results['False_Prediction_Probability'] = y_pred_proba_test[:, 0] \n",
    "test_results['True_Prediction_Probability'] = y_pred_proba_test[:, 1]   \n",
    "\n",
    "test_results = test_results.merge(churn_info.loc[y_test.index], left_index=True, right_index=True)\n",
    "\n",
    "test_results.to_csv('/Users/raman/Downloads/predicted_dataset.csv', index=False)\n",
    "\n",
    "print(\"Predictions saved successfully!\")\n"
   ]
  },
  {
   "cell_type": "code",
   "execution_count": 28,
   "id": "eb3210e4-acd4-4b42-8f15-5d8f108d0c74",
   "metadata": {},
   "outputs": [
    {
     "data": {
      "image/png": "[encoded data removed]",
      "text/plain": [
       "<Figure size 600x400 with 2 Axes>"
      ]
     },
     "metadata": {},
     "output_type": "display_data"
    }
   ],
   "source": [
    "import matplotlib.pyplot as plt\n",
    "import seaborn as sns\n",
    "from sklearn.metrics import confusion_matrix\n",
    "\n",
    "cm = confusion_matrix(y_test, y_pred_test)\n",
    "\n",
    "plt.figure(figsize=(6, 4))\n",
    "sns.heatmap(cm, annot=True, fmt=\"d\", cmap=\"Blues\", xticklabels=['No Churn', 'Churn'], yticklabels=['No Churn', 'Churn'])\n",
    "plt.xlabel(\"Predicted\")\n",
    "plt.ylabel(\"Actual\")\n",
    "plt.title(\"Confusion Matrix\")\n",
    "plt.show()"
   ]
  }
 ],
 "metadata": {
  "kernelspec": {
   "display_name": "Python 3 (ipykernel)",
   "language": "python",
   "name": "python3"
  },
  "language_info": {
   "codemirror_mode": {
    "name": "ipython",
    "version": 3
   },
   "file_extension": ".py",
   "mimetype": "text/x-python",
   "name": "python",
   "nbconvert_exporter": "python",
   "pygments_lexer": "ipython3",
   "version": "3.13.0"
  }
 },
 "nbformat": 4,
 "nbformat_minor": 5
}
